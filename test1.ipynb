{
 "cells": [
  {
   "cell_type": "code",
   "execution_count": 1,
   "id": "023b4a1c",
   "metadata": {},
   "outputs": [],
   "source": [
    "import serial.tools.list_ports"
   ]
  },
  {
   "cell_type": "code",
   "execution_count": 6,
   "id": "c130bfcd",
   "metadata": {},
   "outputs": [],
   "source": [
    "ports = serial.tools.list_ports.comports()\n",
    "serialinst = serial.Serial()\n",
    "portlist = []"
   ]
  },
  {
   "cell_type": "code",
   "execution_count": 8,
   "id": "6bd5e60f",
   "metadata": {},
   "outputs": [
    {
     "name": "stdout",
     "output_type": "stream",
     "text": [
      "/dev/cu.BLTH - n/a\n",
      "/dev/cu.Bluetooth-Incoming-Port - n/a\n",
      "/dev/cu.FRUSTRATION - n/a\n"
     ]
    }
   ],
   "source": [
    "for port in ports:\n",
    "    portlist.append(str(port))\n",
    "    print(str(port))"
   ]
  },
  {
   "cell_type": "code",
   "execution_count": 11,
   "id": "d871eb93",
   "metadata": {},
   "outputs": [
    {
     "name": "stdout",
     "output_type": "stream",
     "text": [
      "select port:cu.BLTH\n",
      "/dev/cu.BLTH\n"
     ]
    }
   ],
   "source": [
    "val = input(\"select port:\")\n",
    "\n",
    "for x in range(0,len(portlist)):\n",
    "    if portlist[x].startswith(\"/dev/\"+str(val)):\n",
    "        portvar = \"/dev/\"+str(val)\n",
    "        print(portvar)"
   ]
  },
  {
   "cell_type": "code",
   "execution_count": 12,
   "id": "03e2688e",
   "metadata": {},
   "outputs": [
    {
     "ename": "SerialException",
     "evalue": "[Errno 16] could not open port /dev/cu.BLTH: [Errno 16] Resource busy: '/dev/cu.BLTH'",
     "output_type": "error",
     "traceback": [
      "\u001b[0;31m---------------------------------------------------------------------------\u001b[0m",
      "\u001b[0;31mOSError\u001b[0m                                   Traceback (most recent call last)",
      "File \u001b[0;32m~/opt/anaconda3/lib/python3.8/site-packages/serial/serialposix.py:322\u001b[0m, in \u001b[0;36mSerial.open\u001b[0;34m(self)\u001b[0m\n\u001b[1;32m    321\u001b[0m \u001b[38;5;28;01mtry\u001b[39;00m:\n\u001b[0;32m--> 322\u001b[0m     \u001b[38;5;28mself\u001b[39m\u001b[38;5;241m.\u001b[39mfd \u001b[38;5;241m=\u001b[39m \u001b[43mos\u001b[49m\u001b[38;5;241;43m.\u001b[39;49m\u001b[43mopen\u001b[49m\u001b[43m(\u001b[49m\u001b[38;5;28;43mself\u001b[39;49m\u001b[38;5;241;43m.\u001b[39;49m\u001b[43mportstr\u001b[49m\u001b[43m,\u001b[49m\u001b[43m \u001b[49m\u001b[43mos\u001b[49m\u001b[38;5;241;43m.\u001b[39;49m\u001b[43mO_RDWR\u001b[49m\u001b[43m \u001b[49m\u001b[38;5;241;43m|\u001b[39;49m\u001b[43m \u001b[49m\u001b[43mos\u001b[49m\u001b[38;5;241;43m.\u001b[39;49m\u001b[43mO_NOCTTY\u001b[49m\u001b[43m \u001b[49m\u001b[38;5;241;43m|\u001b[39;49m\u001b[43m \u001b[49m\u001b[43mos\u001b[49m\u001b[38;5;241;43m.\u001b[39;49m\u001b[43mO_NONBLOCK\u001b[49m\u001b[43m)\u001b[49m\n\u001b[1;32m    323\u001b[0m \u001b[38;5;28;01mexcept\u001b[39;00m \u001b[38;5;167;01mOSError\u001b[39;00m \u001b[38;5;28;01mas\u001b[39;00m msg:\n",
      "\u001b[0;31mOSError\u001b[0m: [Errno 16] Resource busy: '/dev/cu.BLTH'",
      "\nDuring handling of the above exception, another exception occurred:\n",
      "\u001b[0;31mSerialException\u001b[0m                           Traceback (most recent call last)",
      "Input \u001b[0;32mIn [12]\u001b[0m, in \u001b[0;36m<cell line: 3>\u001b[0;34m()\u001b[0m\n\u001b[1;32m      1\u001b[0m serialinst\u001b[38;5;241m.\u001b[39mbaudrate \u001b[38;5;241m=\u001b[39m \u001b[38;5;241m9600\u001b[39m\n\u001b[1;32m      2\u001b[0m serialinst\u001b[38;5;241m.\u001b[39mport \u001b[38;5;241m=\u001b[39m portvar\n\u001b[0;32m----> 3\u001b[0m \u001b[43mserialinst\u001b[49m\u001b[38;5;241;43m.\u001b[39;49m\u001b[43mopen\u001b[49m\u001b[43m(\u001b[49m\u001b[43m)\u001b[49m\n",
      "File \u001b[0;32m~/opt/anaconda3/lib/python3.8/site-packages/serial/serialposix.py:325\u001b[0m, in \u001b[0;36mSerial.open\u001b[0;34m(self)\u001b[0m\n\u001b[1;32m    323\u001b[0m \u001b[38;5;28;01mexcept\u001b[39;00m \u001b[38;5;167;01mOSError\u001b[39;00m \u001b[38;5;28;01mas\u001b[39;00m msg:\n\u001b[1;32m    324\u001b[0m     \u001b[38;5;28mself\u001b[39m\u001b[38;5;241m.\u001b[39mfd \u001b[38;5;241m=\u001b[39m \u001b[38;5;28;01mNone\u001b[39;00m\n\u001b[0;32m--> 325\u001b[0m     \u001b[38;5;28;01mraise\u001b[39;00m SerialException(msg\u001b[38;5;241m.\u001b[39merrno, \u001b[38;5;124m\"\u001b[39m\u001b[38;5;124mcould not open port \u001b[39m\u001b[38;5;132;01m{}\u001b[39;00m\u001b[38;5;124m: \u001b[39m\u001b[38;5;132;01m{}\u001b[39;00m\u001b[38;5;124m\"\u001b[39m\u001b[38;5;241m.\u001b[39mformat(\u001b[38;5;28mself\u001b[39m\u001b[38;5;241m.\u001b[39m_port, msg))\n\u001b[1;32m    326\u001b[0m \u001b[38;5;66;03m#~ fcntl.fcntl(self.fd, fcntl.F_SETFL, 0)  # set blocking\u001b[39;00m\n\u001b[1;32m    328\u001b[0m \u001b[38;5;28mself\u001b[39m\u001b[38;5;241m.\u001b[39mpipe_abort_read_r, \u001b[38;5;28mself\u001b[39m\u001b[38;5;241m.\u001b[39mpipe_abort_read_w \u001b[38;5;241m=\u001b[39m \u001b[38;5;28;01mNone\u001b[39;00m, \u001b[38;5;28;01mNone\u001b[39;00m\n",
      "\u001b[0;31mSerialException\u001b[0m: [Errno 16] could not open port /dev/cu.BLTH: [Errno 16] Resource busy: '/dev/cu.BLTH'"
     ]
    }
   ],
   "source": [
    "serialinst.baudrate = 9600\n",
    "serialinst.port = portvar\n",
    "serialinst.open()"
   ]
  },
  {
   "cell_type": "code",
   "execution_count": null,
   "id": "ff5d1a09",
   "metadata": {},
   "outputs": [],
   "source": [
    "while True:\n",
    "    if serialinst.in_waiting:\n",
    "        packet = serialinst.readline()\n",
    "        print(packet.decode('utf'))"
   ]
  },
  {
   "cell_type": "code",
   "execution_count": 2,
   "id": "e4fbbdcd",
   "metadata": {},
   "outputs": [],
   "source": [
    "import mysql.connector\n",
    "from mysql.connector import Error"
   ]
  },
  {
   "cell_type": "code",
   "execution_count": 5,
   "id": "d92d3776",
   "metadata": {},
   "outputs": [
    {
     "name": "stdout",
     "output_type": "stream",
     "text": [
      "connected to  8.0.30-0ubuntu0.20.04.2\n"
     ]
    }
   ],
   "source": [
    "def connect_db():\n",
    "    # 連接資料庫\n",
    "    import mysql.connector\n",
    "    from mysql.connector import Error\n",
    "\n",
    "    try:\n",
    "        connection = mysql.connector.connect(\n",
    "            host='35.77.173.217', #資料庫的host\n",
    "#             port='3306', #資料庫的port (通常會是3306)\n",
    "            database='Laundry', #資料庫名稱# database='Laundry', #資料庫名稱\n",
    "            user='laundry', #資料庫使用者\n",
    "            password='12345678',# password='12345678', #資料庫密碼\n",
    "        )\n",
    "        if connection.is_connected():\n",
    "            cursor = connection.cursor()\n",
    "            print('connected to ',connection.get_server_info())\n",
    "\n",
    "    except Error as e:\n",
    "        print('資料庫連接失敗,'+'\\n'+'錯誤代碼為 '+e)\n",
    "\n",
    "    return connection, cursor    \n",
    "\n",
    "CONNECTION, CURSOR = connect_db()\n",
    "# sql code\n",
    "# sql = \"INSERT INTO `user` (`id`, `time`, `washer`) VALUES ('user', '0348', '1');\"\n",
    "# CURSOR.execute(sql)\n",
    "# CONNECTION.commit()\n",
    "\n"
   ]
  },
  {
   "cell_type": "code",
   "execution_count": null,
   "id": "6e5b5b23",
   "metadata": {},
   "outputs": [],
   "source": []
  }
 ],
 "metadata": {
  "kernelspec": {
   "display_name": "Python 3 (ipykernel)",
   "language": "python",
   "name": "python3"
  },
  "language_info": {
   "codemirror_mode": {
    "name": "ipython",
    "version": 3
   },
   "file_extension": ".py",
   "mimetype": "text/x-python",
   "name": "python",
   "nbconvert_exporter": "python",
   "pygments_lexer": "ipython3",
   "version": "3.8.13"
  }
 },
 "nbformat": 4,
 "nbformat_minor": 5
}
