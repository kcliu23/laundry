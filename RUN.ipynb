{
 "cells": [
  {
   "cell_type": "code",
   "execution_count": null,
   "id": "64a08971",
   "metadata": {},
   "outputs": [],
   "source": [
    "import matplotlib.pyplot as plt\n",
    "import serial\n",
    "import mysql.connector\n",
    "from mysql.connector import Error\n",
    "from time import process_time\n",
    "import csv\n",
    "import numpy"
   ]
  },
  {
   "cell_type": "code",
   "execution_count": null,
   "id": "d9791958",
   "metadata": {},
   "outputs": [],
   "source": [
    "PORT1 = '/dev/rfcomm1'                   \n",
    "BAUD_RATES1 = 115200  \n",
    "ser1 = serial.Serial(PORT1,BAUD_RATES1)"
   ]
  },
  {
   "cell_type": "code",
   "execution_count": null,
   "id": "f9b61608",
   "metadata": {},
   "outputs": [],
   "source": [
    "PORT2 = '/dev/rfcomm2'                   \n",
    "BAUD_RATES2 = 115200  \n",
    "ser2 = serial.Serial(PORT2,BAUD_RATES2)"
   ]
  },
  {
   "cell_type": "code",
   "execution_count": null,
   "id": "f3204f3a",
   "metadata": {},
   "outputs": [],
   "source": [
    "PORT3 = '/dev/rfcomm3'                   \n",
    "BAUD_RATES3 = 115200  \n",
    "ser3 = serial.Serial(PORT3,BAUD_RATES3)"
   ]
  },
  {
   "cell_type": "code",
   "execution_count": null,
   "id": "30370959",
   "metadata": {},
   "outputs": [],
   "source": [
    "ser1.flushInput()\n",
    "ser2.flushInput()\n",
    "ser3.flushInput()\n",
    "DATA1 = []\n",
    "DATA2 = []\n",
    "DATA3 = []\n",
    "j = 0\n",
    "k = 0\n",
    "z = 0\n",
    "while True:\n",
    "    data_raw1 = ser1.readline()\n",
    "    data1 = data_raw1.decode()\n",
    "    DATA1.append(data1)\n",
    "    \n",
    "    data_raw2 = ser2.readline()\n",
    "    data2 = data_raw2.decode()\n",
    "    DATA2.append(data2)\n",
    "    \n",
    "    data_raw3 = ser3.readline()\n",
    "    data3 = data_raw3.decode()\n",
    "    DATA3.append(data3)\n",
    "    \n",
    "    if len(DATA1)%1040000==0:\n",
    "        j += 1\n",
    "        with open(f'0925_kc_nano_result_{j}.csv', 'wt',newline ='') as file1:\n",
    "            mywriter1 = csv.writer(file1)\n",
    "            for J in range(0,len(DATA1)):\n",
    "                dataraw1 = DATA1[J]\n",
    "                datat1 = dataraw1.split()\n",
    "                mywriter1.writerow(datat1)\n",
    "            DATA1.clear()\n",
    "    \n", 
    "    if len(DATA2)%1040000==0:\n",
    "        k += 1\n",
    "        with open(f'0925_kc_nano_result_{k}.csv', 'wt',newline ='') as file2:\n",
    "            mywriter2 = csv.writer(file2)\n",
    "            for K in range(0,len(DATA2)):\n",
    "                dataraw2 = DATA2[K]\n",
    "                datat2 = dataraw2.split()\n",
    "                mywriter2.writerow(datat2)\n",
    "            DATA2.clear()\n",
    "            \n",
    "    if len(DATA3)%1040000==0:\n",
    "        z += 1\n",
    "        with open(f'0925_kc_nano_result_{z}.csv', 'wt',newline ='') as file3:\n",
    "            mywriter3 = csv.writer(file3)\n",
    "            for Z in range(0,len(DATA3)):\n",
    "                dataraw3 = DATA3[Z]\n",
    "                datat3 = dataraw3.split()\n",
    "                mywriter3.writerow(datat3)\n",
    "            DATA3.clear()"
   ]
  }
 ],
 "metadata": {
  "kernelspec": {
   "display_name": "Python 3 (ipykernel)",
   "language": "python",
   "name": "python3"
  },
  "language_info": {
   "codemirror_mode": {
    "name": "ipython",
    "version": 3
   },
   "file_extension": ".py",
   "mimetype": "text/x-python",
   "name": "python",
   "nbconvert_exporter": "python",
   "pygments_lexer": "ipython3",
   "version": "3.9.2"
  }
 },
 "nbformat": 4,
 "nbformat_minor": 5
}
