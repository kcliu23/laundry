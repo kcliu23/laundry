{
 "cells": [
  {
   "cell_type": "code",
   "execution_count": null,
   "metadata": {},
   "outputs": [],
   "source": [
    "import matplotlib.pyplot as plt\n",
    "import serial\n",
    "import mysql.connector\n",
    "from mysql.connector import Error\n",
    "from time import process_time\n",
    "import csv\n",
    "import numpy\n",
    "#no module named serial -> pip install pyserial"
   ]
  },
  {
   "cell_type": "code",
   "execution_count": null,
   "metadata": {},
   "outputs": [],
   "source": [
    "PORT = '/dev/cu.DEV3'                   \n",
    "BAUD_RATES = 9600  \n",
    "ser = serial.Serial(PORT,BAUD_RATES) "
   ]
  },
  {
   "cell_type": "code",
   "execution_count": null,
   "metadata": {},
   "outputs": [],
   "source": [
    "def connect_db():\n",
    "    try:\n",
    "        connection = mysql.connector.connect(\n",
    "            host='35.77.173.217', #資料庫的host\n",
    "#             port='3306', #資料庫的port (通常會是3306)\n",
    "            database='Laundry', #資料庫名稱\n",
    "            user='laundry', #資料庫使用者\n",
    "            password='12345678', #資料庫密碼\n",
    "        )\n",
    "        if connection.is_connected():\n",
    "            cursor = connection.cursor()\n",
    "            print('conneceted to',connection.get_server_info())\n",
    "\n",
    "    except Error as e:\n",
    "        print('資料庫連接失敗,'+'\\n'+'錯誤代碼為 '+e)\n",
    "\n",
    "    return connection, cursor"
   ]
  },
  {
   "cell_type": "code",
   "execution_count": null,
   "metadata": {},
   "outputs": [],
   "source": [
    "CONNECTION, CURSOR = connect_db()"
   ]
  },
  {
   "cell_type": "code",
   "execution_count": null,
   "metadata": {},
   "outputs": [],
   "source": [
    "ser.flushInput()\n",
    "DATA = []\n",
    "j = 0\n",
    "while True:\n",
    "    data_raw = ser.readline()\n",
    "    data = data_raw.decode()\n",
    "    DATA.append(data)\n",
    "    print(DATA[0])\n",
    "    print(len(DATA))\n",
    "    if len(DATA)%1000==0:\n",
    "        j += 1\n",
    "        with open(f'0918_kc_nano_result_{j}.csv', 'wt',newline ='') as file:\n",
    "            mywriter = csv.writer(file)\n",
    "            for i in range(1,len(DATA)):\n",
    "                dataraw = DATA[i]\n",
    "                datat = dataraw.split()\n",
    "                mywriter.writerow(datat)\n",
    "            DATA.clear()\n",
    "#     device = DATA[0]\n",
    "#     time = DATA[1]\n",
    "#     x = DATA[2]\n",
    "#     y = DATA[3]\n",
    "#     z = DATA[4]\n",
    "#     print(type(data))\n",
    "#     try:\n",
    "#         if len(DATA) == 5:\n",
    "#             device = DATA[0]\n",
    "#             time = get\n",
    "#         sql = \"INSERT INTO 'data' ('device', 'time', 'x', 'y','z') VALUES ('\"+device+\"', '\"+time+\"', '\"+x+\"', '\"+y+\"','\"+z+\"'); \"\n",
    "#         CURSOR.execute(sql)\n",
    "#         CONNECTION.commit()\n",
    "#     except:\n",
    "#         print(\"Error\")"
   ]
  },
  {
   "cell_type": "code",
   "execution_count": null,
   "metadata": {},
   "outputs": [],
   "source": [
    "data_length = 80000#自行修改測量次數\n",
    "data_arr = ['']*(data_length+1)\n",
    "ser.flushInput()\n",
    "for i in range(1,data_length+1):\n",
    "    data_raw = ser.readline()\n",
    "    data = data_raw.decode()  \n",
    "    print(data[1])\n",
    "    data_arr[i] = data\n",
    "    print(data)"
   ]
  },
  {
   "cell_type": "code",
   "execution_count": null,
   "metadata": {},
   "outputs": [],
   "source": [
    "# Write result to Excel\n",
    "# import pandas as pd\n",
    "# df = pd.DataFrame({'Frequency xyz': data_arr})\n",
    "# writer = pd.ExcelWriter('exp1.xlsx', engine='xlsxwriter')\n",
    "# df.to_excel(writer, sheet_name='Sheet1')\n",
    "# writer.save()\n",
    "#no module named pandas -> pip install pandas\n",
    "import csv\n",
    "import numpy\n",
    "import datetime\n",
    "start = datetime.now()\n",
    "\n",
    "with open(r'0906_kc_nano_result_1.csv', 'wt',newline ='') as file:\n",
    "    mywriter = csv.writer(file)\n",
    "    for i in range(1,len(data_arr)):\n",
    "        dataraw = data_arr[i][:-2]\n",
    "        datat = dataraw.split()\n",
    "        print((datat))\n",
    "        mywriter.writerow(datat)"
   ]
  },
  {
   "cell_type": "code",
   "execution_count": null,
   "metadata": {
    "scrolled": true
   },
   "outputs": [],
   "source": [
    "PORT_1 = '/dev/cu.DEV1'                   \n",
    "BAUD_RATES_1 = 9600  \n",
    "ser1 = serial.Serial(PORT_1,BAUD_RATES_1) "
   ]
  },
  {
   "cell_type": "code",
   "execution_count": null,
   "metadata": {},
   "outputs": [],
   "source": [
    "PORT_2 = '/dev/cu.DEV2'                  \n",
    "BAUD_RATES_2 = 9600  \n",
    "ser2 = serial.Serial(PORT_2,BAUD_RATES_2) "
   ]
  },
  {
   "cell_type": "code",
   "execution_count": null,
   "metadata": {},
   "outputs": [],
   "source": [
    "PORT_3 = '/dev/cu.DEV3'                   \n",
    "BAUD_RATES_3 = 9600  \n",
    "ser3 = serial.Serial(PORT_3,BAUD_RATES_3) "
   ]
  },
  {
   "cell_type": "code",
   "execution_count": null,
   "metadata": {
    "scrolled": true
   },
   "outputs": [],
   "source": [
    "data_length = 80000#自行修改測量次數\n",
    "data_arr1 = ['']*(data_length+1)\n",
    "data_arr2 = ['']*(data_length+1)\n",
    "data_arr3 = ['']*(data_length+1)\n",
    "ser1.flushInput()\n",
    "ser2.flushInput()\n",
    "ser3.flushInput()\n",
    "\n",
    "for i in range(1,data_length+1):\n",
    "    print(\"DEV1:\",end=\" \")\n",
    "    data_raw1 = ser1.readline()\n",
    "    data1 = data_raw1.decode()  \n",
    "    data_arr1[i] = data1\n",
    "    print(data1)\n",
    "    print(\"DEV2:\",end=\" \")\n",
    "    data_raw2 = ser2.readline()\n",
    "    data2 = data_raw2.decode()  \n",
    "    data_arr2[i] = data2\n",
    "    print(data2)\n",
    "    print(\"DEV3:\",end=\" \")\n",
    "    data_raw3 = ser3.readline()\n",
    "    data3 = data_raw3.decode()  \n",
    "    data_arr3[i] = data3\n",
    "    print(data3)"
   ]
  },
  {
   "cell_type": "code",
   "execution_count": null,
   "metadata": {},
   "outputs": [],
   "source": [
    "import csv\n",
    "import numpy\n",
    "\n",
    "with open(r'0908_kc_nano_result_1.csv', 'wt',newline ='') as file1:\n",
    "    mywriter1 = csv.writer(file1)\n",
    "    for i in range(1,len(data_arr1)):\n",
    "        dataraw1 = data_arr1[i][:-2]\n",
    "        datat1 = dataraw1.split()\n",
    "        print((datat1))\n",
    "        mywriter1.writerow(datat1)\n",
    "with open(r'0908_kc_nano_result_2.csv', 'wt',newline ='') as file2:\n",
    "    mywriter2 = csv.writer(file2)\n",
    "    for j in range(1,len(data_arr2)):\n",
    "        dataraw2 = data_arr2[j][:-2]\n",
    "        datat2 = dataraw2.split()\n",
    "        print((datat2))\n",
    "        mywriter2.writerow(datat2)\n",
    "with open(r'0908_kc_nano_result_3.csv', 'wt',newline ='') as file3:\n",
    "    mywriter3 = csv.writer(file3)\n",
    "    for k in range(1,len(data_arr3)):\n",
    "        dataraw3 = data_arr3[k][:-2]\n",
    "        datat3 = dataraw3.split()\n",
    "        print((datat3))\n",
    "        mywriter3.writerow(datat3)"
   ]
  }
 ],
 "metadata": {
  "kernelspec": {
   "display_name": "Python 3 (ipykernel)",
   "language": "python",
   "name": "python3"
  },
  "language_info": {
   "codemirror_mode": {
    "name": "ipython",
    "version": 3
   },
   "file_extension": ".py",
   "mimetype": "text/x-python",
   "name": "python",
   "nbconvert_exporter": "python",
   "pygments_lexer": "ipython3",
   "version": "3.8.13"
  }
 },
 "nbformat": 4,
 "nbformat_minor": 4
}
